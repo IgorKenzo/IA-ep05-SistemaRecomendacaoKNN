{
  "nbformat": 4,
  "nbformat_minor": 0,
  "metadata": {
    "colab": {
      "name": "EP05.ipynb",
      "provenance": [],
      "collapsed_sections": []
    },
    "kernelspec": {
      "display_name": "Python 3",
      "name": "python3"
    },
    "language_info": {
      "name": "python"
    }
  },
  "cells": [
    {
      "cell_type": "code",
      "metadata": {
        "id": "4EbyyMLqxS3l"
      },
      "source": [
        "import numpy as np\n",
        "import pandas as pd\n",
        "import math\n",
        "import json"
      ],
      "execution_count": null,
      "outputs": []
    },
    {
      "cell_type": "code",
      "metadata": {
        "colab": {
          "base_uri": "https://localhost:8080/",
          "height": 204
        },
        "id": "qckDAYNA5ZN1",
        "outputId": "6cf926e5-6c3b-41a4-b08e-02ffcbfb4522"
      },
      "source": [
        "ratingsDataframe = pd.read_csv(\"./ratings_small.csv\")\n",
        "ratingsDataframe.head(5)"
      ],
      "execution_count": null,
      "outputs": [
        {
          "output_type": "execute_result",
          "data": {
            "text/html": [
              "<div>\n",
              "<style scoped>\n",
              "    .dataframe tbody tr th:only-of-type {\n",
              "        vertical-align: middle;\n",
              "    }\n",
              "\n",
              "    .dataframe tbody tr th {\n",
              "        vertical-align: top;\n",
              "    }\n",
              "\n",
              "    .dataframe thead th {\n",
              "        text-align: right;\n",
              "    }\n",
              "</style>\n",
              "<table border=\"1\" class=\"dataframe\">\n",
              "  <thead>\n",
              "    <tr style=\"text-align: right;\">\n",
              "      <th></th>\n",
              "      <th>userId</th>\n",
              "      <th>movieId</th>\n",
              "      <th>rating</th>\n",
              "      <th>timestamp</th>\n",
              "    </tr>\n",
              "  </thead>\n",
              "  <tbody>\n",
              "    <tr>\n",
              "      <th>0</th>\n",
              "      <td>1</td>\n",
              "      <td>31</td>\n",
              "      <td>2.5</td>\n",
              "      <td>1260759144</td>\n",
              "    </tr>\n",
              "    <tr>\n",
              "      <th>1</th>\n",
              "      <td>1</td>\n",
              "      <td>1029</td>\n",
              "      <td>3.0</td>\n",
              "      <td>1260759179</td>\n",
              "    </tr>\n",
              "    <tr>\n",
              "      <th>2</th>\n",
              "      <td>1</td>\n",
              "      <td>1061</td>\n",
              "      <td>3.0</td>\n",
              "      <td>1260759182</td>\n",
              "    </tr>\n",
              "    <tr>\n",
              "      <th>3</th>\n",
              "      <td>1</td>\n",
              "      <td>1129</td>\n",
              "      <td>2.0</td>\n",
              "      <td>1260759185</td>\n",
              "    </tr>\n",
              "    <tr>\n",
              "      <th>4</th>\n",
              "      <td>1</td>\n",
              "      <td>1172</td>\n",
              "      <td>4.0</td>\n",
              "      <td>1260759205</td>\n",
              "    </tr>\n",
              "  </tbody>\n",
              "</table>\n",
              "</div>"
            ],
            "text/plain": [
              "   userId  movieId  rating   timestamp\n",
              "0       1       31     2.5  1260759144\n",
              "1       1     1029     3.0  1260759179\n",
              "2       1     1061     3.0  1260759182\n",
              "3       1     1129     2.0  1260759185\n",
              "4       1     1172     4.0  1260759205"
            ]
          },
          "metadata": {
            "tags": []
          },
          "execution_count": 91
        }
      ]
    },
    {
      "cell_type": "code",
      "metadata": {
        "colab": {
          "base_uri": "https://localhost:8080/",
          "height": 204
        },
        "id": "BLu-cx2H_8qF",
        "outputId": "dc087c31-6269-44fc-aced-85010f235bee"
      },
      "source": [
        "moviesDataframe = pd.read_csv(\"./links_small.csv\")\n",
        "moviesDataframe.dropna()\n",
        "moviesDataframe['imdbId'] = moviesDataframe['imdbId'].astype(str)\n",
        "moviesDataframe['imdbId'] = moviesDataframe['imdbId'].transform(lambda x: \"tt\"+ \"0\"*(7 - len(x)) + x)\n",
        "moviesDataframe.head(5)"
      ],
      "execution_count": null,
      "outputs": [
        {
          "output_type": "execute_result",
          "data": {
            "text/html": [
              "<div>\n",
              "<style scoped>\n",
              "    .dataframe tbody tr th:only-of-type {\n",
              "        vertical-align: middle;\n",
              "    }\n",
              "\n",
              "    .dataframe tbody tr th {\n",
              "        vertical-align: top;\n",
              "    }\n",
              "\n",
              "    .dataframe thead th {\n",
              "        text-align: right;\n",
              "    }\n",
              "</style>\n",
              "<table border=\"1\" class=\"dataframe\">\n",
              "  <thead>\n",
              "    <tr style=\"text-align: right;\">\n",
              "      <th></th>\n",
              "      <th>movieId</th>\n",
              "      <th>imdbId</th>\n",
              "      <th>tmdbId</th>\n",
              "    </tr>\n",
              "  </thead>\n",
              "  <tbody>\n",
              "    <tr>\n",
              "      <th>0</th>\n",
              "      <td>1</td>\n",
              "      <td>tt0114709</td>\n",
              "      <td>862.0</td>\n",
              "    </tr>\n",
              "    <tr>\n",
              "      <th>1</th>\n",
              "      <td>2</td>\n",
              "      <td>tt0113497</td>\n",
              "      <td>8844.0</td>\n",
              "    </tr>\n",
              "    <tr>\n",
              "      <th>2</th>\n",
              "      <td>3</td>\n",
              "      <td>tt0113228</td>\n",
              "      <td>15602.0</td>\n",
              "    </tr>\n",
              "    <tr>\n",
              "      <th>3</th>\n",
              "      <td>4</td>\n",
              "      <td>tt0114885</td>\n",
              "      <td>31357.0</td>\n",
              "    </tr>\n",
              "    <tr>\n",
              "      <th>4</th>\n",
              "      <td>5</td>\n",
              "      <td>tt0113041</td>\n",
              "      <td>11862.0</td>\n",
              "    </tr>\n",
              "  </tbody>\n",
              "</table>\n",
              "</div>"
            ],
            "text/plain": [
              "   movieId     imdbId   tmdbId\n",
              "0        1  tt0114709    862.0\n",
              "1        2  tt0113497   8844.0\n",
              "2        3  tt0113228  15602.0\n",
              "3        4  tt0114885  31357.0\n",
              "4        5  tt0113041  11862.0"
            ]
          },
          "metadata": {
            "tags": []
          },
          "execution_count": 92
        }
      ]
    },
    {
      "cell_type": "code",
      "metadata": {
        "id": "iF8xuJ-ECyI4"
      },
      "source": [
        "def intersection(lst1, lst2):\n",
        "    return list(set(lst1) & set(lst2))"
      ],
      "execution_count": null,
      "outputs": []
    },
    {
      "cell_type": "code",
      "metadata": {
        "id": "5HoG_sgCS9E9"
      },
      "source": [
        "w = {}"
      ],
      "execution_count": null,
      "outputs": []
    },
    {
      "cell_type": "code",
      "metadata": {
        "id": "yL04GxdNzWXJ"
      },
      "source": [
        "userRange = list(set(ratingsDataframe['userId']))"
      ],
      "execution_count": null,
      "outputs": []
    },
    {
      "cell_type": "code",
      "metadata": {
        "id": "SydTbFl5O-K3"
      },
      "source": [
        "def saveWeights(weights):\n",
        "  w_file = open(\"weights.json\", \"w\")\n",
        "  json.dump(weights, w_file)\n",
        "  w_file.close()"
      ],
      "execution_count": null,
      "outputs": []
    },
    {
      "cell_type": "code",
      "metadata": {
        "id": "a1JtqHa4Dl1B"
      },
      "source": [
        "def calculateSimilarity():\n",
        "  le = len(userRange)\n",
        "  # Cada usuario u de U\n",
        "  for u in userRange:\n",
        "    print(f\"{u} -> {u/le}\")\n",
        "    # Pega seus Ratings e calc media\n",
        "    uMovieIdRated = ratingsDataframe.query(f\"userId == {u}\")\n",
        "    uMeanRating = uMovieIdRated['rating'].mean()\n",
        "    restOfUsers = userRange[userRange.index(u) + 1:]\n",
        "    # Cada usuario v de U - {u}\n",
        "    # for v in userRange:\n",
        "    for v in restOfUsers:\n",
        "      if u == v: continue\n",
        "      vMovieIdRated = ratingsDataframe.query(f\"userId == {v}\")\n",
        "\n",
        "      # Pega a intersecçao i de ratings entre u e v\n",
        "      intersect = intersection(list(uMovieIdRated['movieId']), list(vMovieIdRated['movieId']))\n",
        "      # print(f\"{v}\", intersect)\n",
        "      #Se nao tiverem instersecçao, provavelmente, nao sao proximos\n",
        "      if len(intersect) == 0:\n",
        "        # salvando como 0, pois um usuario neutro pode valer mais doq um oposto, caso não tenha usuario parecido <- pode ser uma politica de novo usuario\n",
        "        w[f\"{u},{v}\"] = 0\n",
        "        continue \n",
        "\n",
        "      # Calc media ratings v\n",
        "      vMeanRating = vMovieIdRated['rating'].mean()\n",
        "      # Calc somatorio####\n",
        "      w_uv_numerador = 0\n",
        "      u_i_denominador = 0\n",
        "      v_i_denominador = 0\n",
        "      for i in intersect:\n",
        "        prod_rating_u_i = uMovieIdRated.query(f\"movieId == {i}\").iat[0,2]\n",
        "        prod_rating_v_i = vMovieIdRated.query(f\"movieId == {i}\").iat[0,2]\n",
        "        \n",
        "        w_uv_numerador += (prod_rating_u_i - uMeanRating) * (prod_rating_v_i - vMeanRating)\n",
        "        u_i_denominador += (prod_rating_u_i - uMeanRating)**2\n",
        "        v_i_denominador += (prod_rating_v_i - vMeanRating)**2\n",
        "      \n",
        "      u_i_denominador = math.sqrt(u_i_denominador)\n",
        "      v_i_denominador = math.sqrt(v_i_denominador)\n",
        "\n",
        "      w_uv = w_uv_numerador/(u_i_denominador*v_i_denominador)\n",
        "\n",
        "      w[f\"{u},{v}\"] = w_uv\n",
        "      w[f\"{v},{u}\"] = w_uv\n",
        "    \n",
        "  saveWeights(w)\n",
        "\n"
      ],
      "execution_count": null,
      "outputs": []
    },
    {
      "cell_type": "code",
      "metadata": {
        "id": "T3eAM9GzNwGg"
      },
      "source": [
        "calculateSimilarity()"
      ],
      "execution_count": null,
      "outputs": []
    },
    {
      "cell_type": "markdown",
      "metadata": {
        "id": "8WgF5iTtD8cV"
      },
      "source": [
        "Recomendação\n"
      ]
    },
    {
      "cell_type": "code",
      "metadata": {
        "id": "4BMaxeET5eH8"
      },
      "source": [
        "weightFile = open(\"./weights.json\",\"r\")\n",
        "weightsStr = weightFile.read()\n",
        "weights = json.loads(weightsStr)\n",
        "weightFile.close()"
      ],
      "execution_count": null,
      "outputs": []
    },
    {
      "cell_type": "code",
      "metadata": {
        "id": "Np0AaUPk9W52"
      },
      "source": [
        "def getTopKUsers(U, K):\n",
        "  df = pd.DataFrame(list(weights.items()),columns = ['id','val']) \n",
        "  dfU = df[df.id.str.startswith(f\"{U},\")]\n",
        "  sortedFd = dfU.sort_values(by=['val'],ascending=False)\n",
        "  sortedFd['val'].replace(np.nan, 0, inplace = True)\n",
        "  topK = sortedFd.head(K)\n",
        "  return topK"
      ],
      "execution_count": null,
      "outputs": []
    },
    {
      "cell_type": "code",
      "metadata": {
        "id": "x66OZkKXWiJu"
      },
      "source": [
        "def getUser(u):\n",
        "  return ratingsDataframe[ratingsDataframe.userId == u]"
      ],
      "execution_count": null,
      "outputs": []
    },
    {
      "cell_type": "code",
      "metadata": {
        "id": "dUsryYzzRW1q"
      },
      "source": [
        "def getUnwatchedMovieId(U):\n",
        "  uDf = getUser(U)  \n",
        "  uListReviewedMovies = uDf.movieId\n",
        "  uNotWatched = moviesDataframe[~moviesDataframe.isin(uListReviewedMovies)]\n",
        "  # print(uNotWatched.isinf().sum())\n",
        "  # uNotWatched.replace([np.inf, -np.inf], np.nan, inplace=True)\n",
        "  # uNotWatched.dropna()\n",
        "  return uNotWatched.movieId.unique()"
      ],
      "execution_count": null,
      "outputs": []
    },
    {
      "cell_type": "code",
      "metadata": {
        "id": "6ibPOuG7DxH0"
      },
      "source": [
        "def recomend(U, topK):\n",
        "  predict_u_i = {}\n",
        "  uUnwatched = getUnwatchedMovieId(U)  \n",
        "  # [print(type(uw)) for uw in uUnwatched]\n",
        "  for movie in uUnwatched:\n",
        "    numerador = 0\n",
        "    denominador = 0\n",
        "    for index, row in topK.iterrows():\n",
        "      vId = int(row['id'].split(\",\")[1])\n",
        "      v = getUser(vId)\n",
        "      if movie in v.movieId.unique():\n",
        "        r = v[v.movieId == movie]\n",
        "        numerador += r.rating.iat[0] * weights[f\"{U},{vId}\"]\n",
        "        denominador += abs(weights[f\"{U},{vId}\"])\n",
        "      else: continue\n",
        "    predict_u_i[f\"{U},{movie}\"] = numerador/denominador if denominador != 0 else 0\n",
        "\n",
        "  return predict_u_i"
      ],
      "execution_count": null,
      "outputs": []
    },
    {
      "cell_type": "code",
      "metadata": {
        "id": "z8l1m2CG_MuN"
      },
      "source": [
        "K = 5\n",
        "U = 4\n",
        "topK = getTopKUsers(U, K)"
      ],
      "execution_count": null,
      "outputs": []
    },
    {
      "cell_type": "code",
      "metadata": {
        "id": "l5uAvlZYGpzi"
      },
      "source": [
        "recomendations = recomend(U, topK)"
      ],
      "execution_count": null,
      "outputs": []
    },
    {
      "cell_type": "code",
      "metadata": {
        "id": "Jp5AA9SuOU3k"
      },
      "source": [
        "sortedRec = sorted(recomendations.items(), key= lambda x:x[1], reverse=True)"
      ],
      "execution_count": null,
      "outputs": []
    },
    {
      "cell_type": "code",
      "metadata": {
        "colab": {
          "base_uri": "https://localhost:8080/"
        },
        "id": "lz5nks2rgZEr",
        "outputId": "8b632ea1-f856-4dc3-b55e-75fed126888b"
      },
      "source": [
        "moviesNameDataframe = pd.read_csv(\"./movies_metadata.csv\")\n",
        "# moviesNameDataframe.head(5)"
      ],
      "execution_count": null,
      "outputs": [
        {
          "output_type": "stream",
          "text": [
            "/usr/local/lib/python3.7/dist-packages/IPython/core/interactiveshell.py:2718: DtypeWarning: Columns (10) have mixed types.Specify dtype option on import or set low_memory=False.\n",
            "  interactivity=interactivity, compiler=compiler, result=result)\n"
          ],
          "name": "stderr"
        }
      ]
    },
    {
      "cell_type": "code",
      "metadata": {
        "colab": {
          "base_uri": "https://localhost:8080/"
        },
        "id": "mLOx9rXcg6KS",
        "outputId": "1820c8eb-3bb5-47a7-933a-5e9004c55edb"
      },
      "source": [
        "numReco = 10\n",
        "rui = sortedRec[0:numReco]\n",
        "moviesNames = []\n",
        "for m in rui:\n",
        "  # v = moviesDataframe[moviesDataframe.movieId == int(m[0].split(\",\")[1].split(\".\")[0])]\n",
        "  v = moviesDataframe[moviesDataframe.movieId == int(float(m[0].split(\",\")[1]))]\n",
        "  a = moviesNameDataframe[moviesNameDataframe.imdb_id == v.imdbId.iat[0]]\n",
        "  moviesNames.append(a.original_title.iat[0])\n",
        "\n",
        "print(f\"As recomendações do usuário {U} :\")\n",
        "\n",
        "for movie in moviesNames:\n",
        "  print(f\"- {movie}\")\n"
      ],
      "execution_count": null,
      "outputs": [
        {
          "output_type": "stream",
          "text": [
            "As recomendações do usuário 4 :\n",
            "- Les misérables\n",
            "- Good Will Hunting\n",
            "- The Goonies\n",
            "- Charlotte's Web\n",
            "- The Sixth Sense\n",
            "- American Beauty\n",
            "- Chicago\n",
            "- 올드보이\n",
            "- Children of Men\n",
            "- Hairspray\n"
          ],
          "name": "stdout"
        }
      ]
    }
  ]
}